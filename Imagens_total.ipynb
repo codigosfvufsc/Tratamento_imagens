{
 "cells": [
  {
   "cell_type": "markdown",
   "metadata": {},
   "source": [
    "Duas funções para colocar em escala de cinza as imagens de EL"
   ]
  },
  {
   "cell_type": "code",
   "execution_count": null,
   "metadata": {},
   "outputs": [],
   "source": [
    "import cv2 #tratamento da imagem\n",
    "import os #busca a imagem\n",
    "\n",
    "\n",
    "def apply_clahe_to_image(file_path):\n",
    "\n",
    "    # Carrega a imagem\n",
    "    img_original = cv2.imread(file_path, 0)\n",
    "\n",
    "    # Aplica o CLAHE\n",
    "    clahe = cv2.createCLAHE(clipLimit=2.0, tileGridSize=(8,8))\n",
    "    cl1 = clahe.apply(img_original)\n",
    "\n",
    "    # Separa nome do arquivo da sua extensão\n",
    "    nome_arquivo, extensao = os.path.splitext(file_path)\n",
    "    extensao = extensao.lower()\n",
    "\n",
    "\n",
    "    # Salva a imagem processada\n",
    "    cv2.imwrite(nome_arquivo + '_PB' + extensao,cl1)\n",
    "\n",
    "def apply_clahe_to_folder(folder_path):\n",
    "    # Percorre recursivamente a árvore de diretórios\n",
    "    for root, dirs, files in os.walk(folder_path):\n",
    "        for file_name in files:\n",
    "            \n",
    "            # Constrói o caminho completo para a imagem\n",
    "            file_path = os.path.join(root, file_name)\n",
    "                \n",
    "            # Aplica o CLAHE na imagem\n",
    "            apply_clahe_to_image(file_path)\n",
    "            print(file_path)\n",
    "\n",
    "        \n",
    "\n",
    "if __name__ == '__main__':\n",
    "    folder_path = r'C:\\Users\\acaro\\OneDrive\\Documents\\CODIGOS\\Tratamento_Imagens\\teste' # pasta atual\n",
    "    apply_clahe_to_folder(folder_path)"
   ]
  },
  {
   "cell_type": "markdown",
   "metadata": {},
   "source": [
    "Tratamento de data para anexar aos nomes de cada minimódulo OU pode só descomentar no próximo código e alterar a data"
   ]
  },
  {
   "cell_type": "code",
   "execution_count": null,
   "metadata": {},
   "outputs": [],
   "source": [
    "import os\n",
    "import shutil\n",
    "import pandas as pd\n",
    "import datetime as dt\n",
    "\n",
    "#Indica data de realização do teste\n",
    "data = dt.date(2024,3,11)\n",
    "\n",
    "#Separa cada informação da data\n",
    "ano = data.year\n",
    "mes = data.month\n",
    "dia = data.day\n",
    "\n",
    "#Adiciona 0 para formatação da data se o mes for menor que 10\n",
    "if mes<10:\n",
    "    mes = f'0{mes}'\n",
    "    data = f\"{ano}{mes}{dia}\"\n",
    "if dia<10:\n",
    "    dia = f'0{dia}'\n",
    "    data = f\"{ano}{mes}{dia}\"\n",
    "else:\n",
    "    data = f\"{ano}{mes}{dia}\"\n",
    "\n",
    "print(data)\n"
   ]
  },
  {
   "cell_type": "markdown",
   "metadata": {},
   "source": [
    "Renomeia para padrão os arquivos de Inspeção Visual"
   ]
  },
  {
   "cell_type": "code",
   "execution_count": null,
   "metadata": {},
   "outputs": [],
   "source": [
    "# Pasta contendo os arquivos .png\\.jpeg\n",
    "pasta = r'C:\\Users\\acaro\\OneDrive\\Documents\\0-ImagensBrutas'\n",
    "\n",
    "# Lista todos os arquivos na pasta\n",
    "arquivos = [arquivo for arquivo in os.listdir(pasta) if arquivo.endswith('.jpg')]\n",
    "\n",
    "#data para colocar nos nomes\n",
    "#data = '20240304'\n",
    "\n",
    "#Itera sobre cada nome, altera - por vazio e renomeia o arquivo no disco\n",
    "for arquivo in arquivos:\n",
    "    # novo_nome = arquivo.replace('-', '')  # Remove hífen do nome do arquivo\n",
    "\n",
    "    nome_arquivo, extensao = os.path.splitext(arquivo) # Separa nome do arquivo da sua extensão\n",
    "\n",
    "    novo_nome = f'{nome_arquivo}_{data}_VIS.jpg' # Cria variável para receber o novo nome de cada arquivo\n",
    "\n",
    "    novo_caminho = os.path.join(pasta, novo_nome)  # Define o novo caminho com o nome alterado\n",
    "\n",
    "    os.rename(os.path.join(pasta, arquivo), novo_caminho)  # Renomeia o arquivo no disco\n",
    "\n",
    "    print(f\"Renomeando {arquivo} para {novo_nome}\")"
   ]
  },
  {
   "cell_type": "markdown",
   "metadata": {},
   "source": [
    "Busca os seriais dentro do excel e cria uma lista para concatenar com data gerando os novos nomes dentro do for para imagens de EL"
   ]
  },
  {
   "cell_type": "code",
   "execution_count": null,
   "metadata": {},
   "outputs": [],
   "source": [
    "# Caminho para o arquivo Excel com os novos nomes\n",
    "excel = r'C:\\Users\\acaro\\OneDrive\\Documents\\CODIGOS\\Tratamento_Imagens\\planilha.xlsx'\n",
    "\n",
    "\n",
    "# Coloca por ordem de teste as posições\n",
    "pos_ordem_fotos = []\n",
    "\n",
    "#Salva em uma variável as colunas desejadas\n",
    "colunas = ['Device', 'Tag PV Blocks']\n",
    "\n",
    "#Le o excel e limite às colunas citadas\n",
    "df = pd.read_excel(excel, sheet_name='Dispositivos_FV', usecols= colunas)\n",
    "\n",
    "#Muda df para dataframe\n",
    "df = pd.DataFrame(df)\n",
    "# print(df['Tag PV Blocks'][1])\n",
    "\n",
    "#tag_name = []\n",
    "#pos = []\n",
    "\n",
    "# Lista de Código de cada minimódulo em ordem\n",
    "serial_minimodulos = []\n",
    "\n",
    "for i, tag in enumerate(df['Tag PV Blocks']):\n",
    "    if isinstance(tag, str):  # Testa se tag é uma string\n",
    "        #tag_name.append(tag)\n",
    "        split_tag = tag.split(\"_\")\n",
    "        if len(split_tag) == 2:\n",
    "            # prefixo, data = split_tag\n",
    "            # pos.append(prefixo)\n",
    "            serial_minimodulos.append(df['Device'][i])\n",
    "            \n",
    "                \n",
    "\n",
    "            \n",
    "print(serial_minimodulos)\n",
    "\n",
    "# Array com os novos nomes\n",
    "novo_nome_array = [f'{serial_minimodulos[i]}_{data}_VIS' for i in range(0, len(serial_minimodulos))]"
   ]
  },
  {
   "cell_type": "markdown",
   "metadata": {},
   "source": [
    "Renomeia as imagens verificando se o número de arquivos é o mesmo de seriais entregues"
   ]
  },
  {
   "cell_type": "code",
   "execution_count": null,
   "metadata": {},
   "outputs": [],
   "source": [
    "#Cria uma lista com os seriais na mesma do ordem das fotos\n",
    "seriais = ['A231113A-019',\n",
    "           'A231030M-005',\n",
    "           'A231030M-007',\n",
    "           'A231107A-004',\n",
    "           'A231107A-006',\n",
    "           'A231107A-011',\n",
    "           'A231107A-013',\n",
    "           'A231113A-011',\n",
    "           'A231113A-013',\n",
    "           'A231113A-016',\n",
    "           'A231113A-022',\n",
    "           'A231113A-024',\n",
    "           'A230919A-27',\n",
    "           'A231113A-026',\n",
    "           'A231113A-030',\n",
    "           'A231107A-023',\n",
    "           'A231113A-033',\n",
    "           'A231113A-041']\n",
    "\n",
    "\n",
    "# Verifica se o número de arquivos .png é igual ao número de novos nomes\n",
    "if len(arquivos) != len(seriais):\n",
    "\n",
    "    print(\"O número de arquivos .jpg não coincide com o número de novos nomes.\")\n",
    "else:\n",
    "    # Percorre os arquivos e renomeia com base no array\n",
    "    for i, arquivo in enumerate(arquivos):\n",
    "\n",
    "        nome_arquivo, extensao = os.path.splitext(arquivo)\n",
    "\n",
    "        nome_arquivo = f'{seriais[i]}_{data}_EL.jpeg' #Define o nome padronizado de cada arquivo\n",
    "\n",
    "        novo_caminho = os.path.join(pasta, novo_nome)  # Define o novo caminho com o nome alterado\n",
    "\n",
    "        os.rename(os.path.join(pasta, arquivo), novo_caminho)  # Renomeia o arquivo no disco\n",
    "\n",
    "        print(f\"Renomeando {arquivo} para {novo_nome}.jpeg\") # Print para confirmar o antigo e novo nome por minimódulo\n",
    "    \n",
    "    print(\"Concluído!\")\n"
   ]
  }
 ],
 "metadata": {
  "kernelspec": {
   "display_name": "Python 3",
   "language": "python",
   "name": "python3"
  },
  "language_info": {
   "codemirror_mode": {
    "name": "ipython",
    "version": 3
   },
   "file_extension": ".py",
   "mimetype": "text/x-python",
   "name": "python",
   "nbconvert_exporter": "python",
   "pygments_lexer": "ipython3",
   "version": "3.12.1"
  }
 },
 "nbformat": 4,
 "nbformat_minor": 2
}
